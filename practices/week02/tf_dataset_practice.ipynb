{
 "cells": [
  {
   "cell_type": "markdown",
   "metadata": {},
   "source": [
    "In this practice, we will exercise **'tf.data'**, which is the input pipeline in TensorFlow. This practice aims to help readers to be more friendly in handling data with **'tf.data'**.  \n",
    "\n",
    "First, let's import python packaages will be used in this practice."
   ]
  },
  {
   "cell_type": "code",
   "execution_count": 1,
   "metadata": {},
   "outputs": [
    {
     "data": {
      "text/plain": [
       "'1.13.1'"
      ]
     },
     "execution_count": 1,
     "metadata": {},
     "output_type": "execute_result"
    }
   ],
   "source": [
    "import numpy as np\n",
    "import tensorflow as tf\n",
    "tf.__version__"
   ]
  },
  {
   "cell_type": "markdown",
   "metadata": {},
   "source": [
    "We will create dataset with **'tf.data'** module, which will return tensors (mini-batches). \n",
    "Let us assume that we want to create 100 one-dimensional data points in range (-5.0, 5.0)."
   ]
  },
  {
   "cell_type": "code",
   "execution_count": 2,
   "metadata": {},
   "outputs": [],
   "source": [
    "x_range = np.arange(-5.0, 5.0, 0.1)\n",
    "x_range = list(x_range)"
   ]
  },
  {
   "cell_type": "markdown",
   "metadata": {},
   "source": [
    "We will create a dataset of including this x-values with **'tf.data.Dataset.from_tensor_slices'**. \n",
    "\n",
    "The function **from_tensor_slices** creates a dataset whose elements are slices of the given input tensor. "
   ]
  },
  {
   "cell_type": "code",
   "execution_count": 3,
   "metadata": {},
   "outputs": [
    {
     "data": {
      "text/plain": [
       "<DatasetV1Adapter shapes: (), types: tf.float32>"
      ]
     },
     "execution_count": 3,
     "metadata": {},
     "output_type": "execute_result"
    }
   ],
   "source": [
    "x_ds = tf.data.Dataset.from_tensor_slices(x_range)\n",
    "x_ds"
   ]
  },
  {
   "cell_type": "markdown",
   "metadata": {},
   "source": [
    "To give labels to our model, we should also create a dataset of labels. \n",
    "For this purpose, we can use **map** function implemented in **tf.data.Dataset**, which roles same as **map** function in python. "
   ]
  },
  {
   "cell_type": "code",
   "execution_count": 4,
   "metadata": {},
   "outputs": [],
   "source": [
    "def map_label(x):\n",
    "    eps = np.random.normal(0.0,1.0)\n",
    "    return 2.0*x - 3.0 + eps"
   ]
  },
  {
   "cell_type": "code",
   "execution_count": 5,
   "metadata": {},
   "outputs": [
    {
     "data": {
      "text/plain": [
       "<DatasetV1Adapter shapes: (), types: tf.float32>"
      ]
     },
     "execution_count": 5,
     "metadata": {},
     "output_type": "execute_result"
    }
   ],
   "source": [
    "y_ds = x_ds.map(map_label)\n",
    "y_ds"
   ]
  },
  {
   "cell_type": "markdown",
   "metadata": {},
   "source": [
    "When we run the session, **y_ds** will return the label of given x-value \\\\(y = 2x - 3 + \\epsilon \\\\). \n",
    "\n",
    "After preparing the datasets of x-values and lables, zip these two datasets together in one dataset. "
   ]
  },
  {
   "cell_type": "code",
   "execution_count": 6,
   "metadata": {},
   "outputs": [],
   "source": [
    "total_ds = tf.data.Dataset.zip((x_ds, y_ds))"
   ]
  },
  {
   "cell_type": "markdown",
   "metadata": {},
   "source": [
    "We can set the configuration of bathces with simple keywords.\n",
    " - dataset.batch(batch_size) : set the batch size of mini-batches\n",
    " - datsaet.shuffle(buffer_size) : determine whether to shuffle the dataset."
   ]
  },
  {
   "cell_type": "code",
   "execution_count": 7,
   "metadata": {},
   "outputs": [],
   "source": [
    "total_ds = total_ds.batch(10)\n",
    "total_ds = total_ds.shuffle(buffer_size=100)"
   ]
  },
  {
   "cell_type": "markdown",
   "metadata": {},
   "source": [
    "After successfully preparing the dataset, create an iterator which will allow sequential assess to Dataset elements."
   ]
  },
  {
   "cell_type": "code",
   "execution_count": 8,
   "metadata": {},
   "outputs": [
    {
     "name": "stdout",
     "output_type": "stream",
     "text": [
      "WARNING:tensorflow:From /Users/seongokryu/anaconda3/envs/python_tf/lib/python3.6/site-packages/tensorflow/python/data/ops/dataset_ops.py:1419: colocate_with (from tensorflow.python.framework.ops) is deprecated and will be removed in a future version.\n",
      "Instructions for updating:\n",
      "Colocations handled automatically by placer.\n"
     ]
    }
   ],
   "source": [
    "iterator = total_ds.make_initializable_iterator()\n",
    "batches = iterator.get_next()"
   ]
  },
  {
   "cell_type": "code",
   "execution_count": 9,
   "metadata": {},
   "outputs": [
    {
     "data": {
      "text/plain": [
       "<tf.Tensor 'IteratorGetNext:0' shape=(?,) dtype=float32>"
      ]
     },
     "execution_count": 9,
     "metadata": {},
     "output_type": "execute_result"
    }
   ],
   "source": [
    "batches[0]"
   ]
  },
  {
   "cell_type": "code",
   "execution_count": 10,
   "metadata": {},
   "outputs": [
    {
     "data": {
      "text/plain": [
       "<tf.Tensor 'IteratorGetNext:1' shape=(?,) dtype=float32>"
      ]
     },
     "execution_count": 10,
     "metadata": {},
     "output_type": "execute_result"
    }
   ],
   "source": [
    "batches[1]"
   ]
  },
  {
   "cell_type": "markdown",
   "metadata": {},
   "source": [
    "We can use those inputs and labels in the **tf.Tensor** format for training your model. \n",
    "This enables us to avoid feeding dictionary with **feed_dict**, which isn't officially recommended.\n",
    "\n",
    "Let's see how the dataset and the iterator work and check the values of mini-batches.\n",
    "Just run the iterator with **tf.Session**."
   ]
  },
  {
   "cell_type": "code",
   "execution_count": 11,
   "metadata": {},
   "outputs": [
    {
     "name": "stdout",
     "output_type": "stream",
     "text": [
      "[-1.  -0.9 -0.8 -0.7 -0.6 -0.5 -0.4 -0.3 -0.2 -0.1]\n",
      "[-6.2015324 -6.0015326 -5.8015323 -5.6015325 -5.401532  -5.2015324\n",
      " -5.001532  -4.8015323 -4.6015325 -4.401532 ]\n",
      "[-4.  -3.9 -3.8 -3.7 -3.6 -3.5 -3.4 -3.3 -3.2 -3.1]\n",
      "[-12.201532 -12.001533 -11.801533 -11.601532 -11.401532 -11.201532\n",
      " -11.001533 -10.801533 -10.601532 -10.401532]\n",
      "[1.  1.1 1.2 1.3 1.4 1.5 1.6 1.7 1.8 1.9]\n",
      "[-2.2015324  -2.001532   -1.8015321  -1.6015323  -1.4015323  -1.2015322\n",
      " -1.0015322  -0.80153215 -0.60153234 -0.4015323 ]\n",
      "[-2.  -1.9 -1.8 -1.7 -1.6 -1.5 -1.4 -1.3 -1.2 -1.1]\n",
      "[-8.201532  -8.001533  -7.8015323 -7.6015325 -7.401532  -7.2015324\n",
      " -7.0015326 -6.8015323 -6.6015325 -6.401532 ]\n",
      "[-1.7763568e-14  1.0000000e-01  2.0000000e-01  3.0000001e-01\n",
      "  4.0000001e-01  5.0000000e-01  6.0000002e-01  6.9999999e-01\n",
      "  8.0000001e-01  8.9999998e-01]\n",
      "[-4.2015324 -4.001532  -3.8015323 -3.6015325 -3.4015322 -3.2015324\n",
      " -3.001532  -2.8015323 -2.6015322 -2.4015322]\n",
      "[-3.  -2.9 -2.8 -2.7 -2.6 -2.5 -2.4 -2.3 -2.2 -2.1]\n",
      "[-10.201532 -10.001533  -9.801533  -9.601532  -9.401532  -9.201532\n",
      "  -9.001533  -8.801532  -8.601532  -8.401532]\n",
      "[4.  4.1 4.2 4.3 4.4 4.5 4.6 4.7 4.8 4.9]\n",
      "[3.7984676 3.9984674 4.1984673 4.398468  4.598468  4.7984676 4.9984674\n",
      " 5.1984673 5.398468  5.598468 ]\n",
      "[-5.  -4.9 -4.8 -4.7 -4.6 -4.5 -4.4 -4.3 -4.2 -4.1]\n",
      "[-14.201532 -14.001533 -13.801533 -13.601532 -13.401532 -13.201532\n",
      " -13.001533 -12.801533 -12.601532 -12.401532]\n",
      "[2.  2.1 2.2 2.3 2.4 2.5 2.6 2.7 2.8 2.9]\n",
      "[-2.0153224e-01 -1.5324354e-03  1.9846785e-01  3.9846766e-01\n",
      "  5.9846795e-01  7.9846776e-01  9.9846756e-01  1.1984679e+00\n",
      "  1.3984677e+00  1.5984679e+00]\n",
      "[3.  3.1 3.2 3.3 3.4 3.5 3.6 3.7 3.8 3.9]\n",
      "[1.7984678 1.9984676 2.1984677 2.3984675 2.5984678 2.7984676 2.9984674\n",
      " 3.1984677 3.3984675 3.5984678]\n",
      "End of  1 -th epoch\n",
      "[1.  1.1 1.2 1.3 1.4 1.5 1.6 1.7 1.8 1.9]\n",
      "[-2.2015324  -2.001532   -1.8015321  -1.6015323  -1.4015323  -1.2015322\n",
      " -1.0015322  -0.80153215 -0.60153234 -0.4015323 ]\n",
      "[2.  2.1 2.2 2.3 2.4 2.5 2.6 2.7 2.8 2.9]\n",
      "[-2.0153224e-01 -1.5324354e-03  1.9846785e-01  3.9846766e-01\n",
      "  5.9846795e-01  7.9846776e-01  9.9846756e-01  1.1984679e+00\n",
      "  1.3984677e+00  1.5984679e+00]\n",
      "[-3.  -2.9 -2.8 -2.7 -2.6 -2.5 -2.4 -2.3 -2.2 -2.1]\n",
      "[-10.201532 -10.001533  -9.801533  -9.601532  -9.401532  -9.201532\n",
      "  -9.001533  -8.801532  -8.601532  -8.401532]\n",
      "[-2.  -1.9 -1.8 -1.7 -1.6 -1.5 -1.4 -1.3 -1.2 -1.1]\n",
      "[-8.201532  -8.001533  -7.8015323 -7.6015325 -7.401532  -7.2015324\n",
      " -7.0015326 -6.8015323 -6.6015325 -6.401532 ]\n",
      "[-1.  -0.9 -0.8 -0.7 -0.6 -0.5 -0.4 -0.3 -0.2 -0.1]\n",
      "[-6.2015324 -6.0015326 -5.8015323 -5.6015325 -5.401532  -5.2015324\n",
      " -5.001532  -4.8015323 -4.6015325 -4.401532 ]\n",
      "[-4.  -3.9 -3.8 -3.7 -3.6 -3.5 -3.4 -3.3 -3.2 -3.1]\n",
      "[-12.201532 -12.001533 -11.801533 -11.601532 -11.401532 -11.201532\n",
      " -11.001533 -10.801533 -10.601532 -10.401532]\n",
      "[-1.7763568e-14  1.0000000e-01  2.0000000e-01  3.0000001e-01\n",
      "  4.0000001e-01  5.0000000e-01  6.0000002e-01  6.9999999e-01\n",
      "  8.0000001e-01  8.9999998e-01]\n",
      "[-4.2015324 -4.001532  -3.8015323 -3.6015325 -3.4015322 -3.2015324\n",
      " -3.001532  -2.8015323 -2.6015322 -2.4015322]\n",
      "[3.  3.1 3.2 3.3 3.4 3.5 3.6 3.7 3.8 3.9]\n",
      "[1.7984678 1.9984676 2.1984677 2.3984675 2.5984678 2.7984676 2.9984674\n",
      " 3.1984677 3.3984675 3.5984678]\n",
      "[4.  4.1 4.2 4.3 4.4 4.5 4.6 4.7 4.8 4.9]\n",
      "[3.7984676 3.9984674 4.1984673 4.398468  4.598468  4.7984676 4.9984674\n",
      " 5.1984673 5.398468  5.598468 ]\n",
      "[-5.  -4.9 -4.8 -4.7 -4.6 -4.5 -4.4 -4.3 -4.2 -4.1]\n",
      "[-14.201532 -14.001533 -13.801533 -13.601532 -13.401532 -13.201532\n",
      " -13.001533 -12.801533 -12.601532 -12.401532]\n",
      "End of  2 -th epoch\n",
      "[-3.  -2.9 -2.8 -2.7 -2.6 -2.5 -2.4 -2.3 -2.2 -2.1]\n",
      "[-10.201532 -10.001533  -9.801533  -9.601532  -9.401532  -9.201532\n",
      "  -9.001533  -8.801532  -8.601532  -8.401532]\n",
      "[3.  3.1 3.2 3.3 3.4 3.5 3.6 3.7 3.8 3.9]\n",
      "[1.7984678 1.9984676 2.1984677 2.3984675 2.5984678 2.7984676 2.9984674\n",
      " 3.1984677 3.3984675 3.5984678]\n",
      "[-1.  -0.9 -0.8 -0.7 -0.6 -0.5 -0.4 -0.3 -0.2 -0.1]\n",
      "[-6.2015324 -6.0015326 -5.8015323 -5.6015325 -5.401532  -5.2015324\n",
      " -5.001532  -4.8015323 -4.6015325 -4.401532 ]\n",
      "[-1.7763568e-14  1.0000000e-01  2.0000000e-01  3.0000001e-01\n",
      "  4.0000001e-01  5.0000000e-01  6.0000002e-01  6.9999999e-01\n",
      "  8.0000001e-01  8.9999998e-01]\n",
      "[-4.2015324 -4.001532  -3.8015323 -3.6015325 -3.4015322 -3.2015324\n",
      " -3.001532  -2.8015323 -2.6015322 -2.4015322]\n",
      "[-4.  -3.9 -3.8 -3.7 -3.6 -3.5 -3.4 -3.3 -3.2 -3.1]\n",
      "[-12.201532 -12.001533 -11.801533 -11.601532 -11.401532 -11.201532\n",
      " -11.001533 -10.801533 -10.601532 -10.401532]\n",
      "[1.  1.1 1.2 1.3 1.4 1.5 1.6 1.7 1.8 1.9]\n",
      "[-2.2015324  -2.001532   -1.8015321  -1.6015323  -1.4015323  -1.2015322\n",
      " -1.0015322  -0.80153215 -0.60153234 -0.4015323 ]\n",
      "[-5.  -4.9 -4.8 -4.7 -4.6 -4.5 -4.4 -4.3 -4.2 -4.1]\n",
      "[-14.201532 -14.001533 -13.801533 -13.601532 -13.401532 -13.201532\n",
      " -13.001533 -12.801533 -12.601532 -12.401532]\n",
      "[-2.  -1.9 -1.8 -1.7 -1.6 -1.5 -1.4 -1.3 -1.2 -1.1]\n",
      "[-8.201532  -8.001533  -7.8015323 -7.6015325 -7.401532  -7.2015324\n",
      " -7.0015326 -6.8015323 -6.6015325 -6.401532 ]\n",
      "[4.  4.1 4.2 4.3 4.4 4.5 4.6 4.7 4.8 4.9]\n",
      "[3.7984676 3.9984674 4.1984673 4.398468  4.598468  4.7984676 4.9984674\n",
      " 5.1984673 5.398468  5.598468 ]\n",
      "[2.  2.1 2.2 2.3 2.4 2.5 2.6 2.7 2.8 2.9]\n",
      "[-2.0153224e-01 -1.5324354e-03  1.9846785e-01  3.9846766e-01\n",
      "  5.9846795e-01  7.9846776e-01  9.9846756e-01  1.1984679e+00\n",
      "  1.3984677e+00  1.5984679e+00]\n",
      "End of  3 -th epoch\n"
     ]
    }
   ],
   "source": [
    "with tf.Session() as sess:\n",
    "    for i in range(3): # number of epoches\n",
    "        sess.run(iterator.initializer)\n",
    "        try:\n",
    "            while True:\n",
    "                x_b, y_b = sess.run(batches)\n",
    "                print (x_b)\n",
    "                print (y_b)\n",
    "        except tf.errors.OutOfRangeError:\n",
    "            print ('End of ', (i+1), '-th epoch')"
   ]
  },
  {
   "cell_type": "markdown",
   "metadata": {},
   "source": [
    "To split the total dataset into the train and validation sets, we can use **take** and **skip** command for this purpose."
   ]
  },
  {
   "cell_type": "code",
   "execution_count": 12,
   "metadata": {},
   "outputs": [
    {
     "data": {
      "text/plain": [
       "<DatasetV1Adapter shapes: ((?,), (?,)), types: (tf.float32, tf.float32)>"
      ]
     },
     "execution_count": 12,
     "metadata": {},
     "output_type": "execute_result"
    }
   ],
   "source": [
    "train_ds = total_ds.take(80)\n",
    "valid_ds = total_ds.skip(20)\n",
    "train_ds"
   ]
  },
  {
   "cell_type": "code",
   "execution_count": 13,
   "metadata": {},
   "outputs": [
    {
     "name": "stdout",
     "output_type": "stream",
     "text": [
      "[1.  1.1 1.2 1.3 1.4 1.5 1.6 1.7 1.8 1.9]\n",
      "[-2.2015324  -2.001532   -1.8015321  -1.6015323  -1.4015323  -1.2015322\n",
      " -1.0015322  -0.80153215 -0.60153234 -0.4015323 ]\n",
      "[-3.  -2.9 -2.8 -2.7 -2.6 -2.5 -2.4 -2.3 -2.2 -2.1]\n",
      "[-10.201532 -10.001533  -9.801533  -9.601532  -9.401532  -9.201532\n",
      "  -9.001533  -8.801532  -8.601532  -8.401532]\n",
      "[4.  4.1 4.2 4.3 4.4 4.5 4.6 4.7 4.8 4.9]\n",
      "[3.7984676 3.9984674 4.1984673 4.398468  4.598468  4.7984676 4.9984674\n",
      " 5.1984673 5.398468  5.598468 ]\n",
      "[-5.  -4.9 -4.8 -4.7 -4.6 -4.5 -4.4 -4.3 -4.2 -4.1]\n",
      "[-14.201532 -14.001533 -13.801533 -13.601532 -13.401532 -13.201532\n",
      " -13.001533 -12.801533 -12.601532 -12.401532]\n",
      "[2.  2.1 2.2 2.3 2.4 2.5 2.6 2.7 2.8 2.9]\n",
      "[-2.0153224e-01 -1.5324354e-03  1.9846785e-01  3.9846766e-01\n",
      "  5.9846795e-01  7.9846776e-01  9.9846756e-01  1.1984679e+00\n",
      "  1.3984677e+00  1.5984679e+00]\n",
      "[-1.7763568e-14  1.0000000e-01  2.0000000e-01  3.0000001e-01\n",
      "  4.0000001e-01  5.0000000e-01  6.0000002e-01  6.9999999e-01\n",
      "  8.0000001e-01  8.9999998e-01]\n",
      "[-4.2015324 -4.001532  -3.8015323 -3.6015325 -3.4015322 -3.2015324\n",
      " -3.001532  -2.8015323 -2.6015322 -2.4015322]\n",
      "[-2.  -1.9 -1.8 -1.7 -1.6 -1.5 -1.4 -1.3 -1.2 -1.1]\n",
      "[-8.201532  -8.001533  -7.8015323 -7.6015325 -7.401532  -7.2015324\n",
      " -7.0015326 -6.8015323 -6.6015325 -6.401532 ]\n",
      "[-4.  -3.9 -3.8 -3.7 -3.6 -3.5 -3.4 -3.3 -3.2 -3.1]\n",
      "[-12.201532 -12.001533 -11.801533 -11.601532 -11.401532 -11.201532\n",
      " -11.001533 -10.801533 -10.601532 -10.401532]\n",
      "[-1.  -0.9 -0.8 -0.7 -0.6 -0.5 -0.4 -0.3 -0.2 -0.1]\n",
      "[-6.2015324 -6.0015326 -5.8015323 -5.6015325 -5.401532  -5.2015324\n",
      " -5.001532  -4.8015323 -4.6015325 -4.401532 ]\n",
      "[3.  3.1 3.2 3.3 3.4 3.5 3.6 3.7 3.8 3.9]\n",
      "[1.7984678 1.9984676 2.1984677 2.3984675 2.5984678 2.7984676 2.9984674\n",
      " 3.1984677 3.3984675 3.5984678]\n",
      "End of  3 -th epoch\n"
     ]
    }
   ],
   "source": [
    "train_iter = train_ds.make_initializable_iterator()\n",
    "batches = train_iter.get_next()\n",
    "\n",
    "with tf.Session() as sess:\n",
    "    sess.run(train_iter.initializer)\n",
    "    try:\n",
    "        while True:\n",
    "            x_b, y_b = sess.run(batches)\n",
    "            print (x_b)\n",
    "            print (y_b)\n",
    "    except tf.errors.OutOfRangeError:\n",
    "        print ('End of ', (i+1), '-th epoch')"
   ]
  },
  {
   "cell_type": "markdown",
   "metadata": {},
   "source": [
    "You can see more details of **tf.data API** in the official presentation:\n",
    "https://docs.google.com/presentation/d/16kHNtQslt-yuJ3w8GIx-eEH6t_AvFeQOchqGRFpAD7U/edit#slide=id.g254d08e080_0_135"
   ]
  }
 ],
 "metadata": {
  "kernelspec": {
   "display_name": "Python 3",
   "language": "python",
   "name": "python3"
  },
  "language_info": {
   "codemirror_mode": {
    "name": "ipython",
    "version": 3
   },
   "file_extension": ".py",
   "mimetype": "text/x-python",
   "name": "python",
   "nbconvert_exporter": "python",
   "pygments_lexer": "ipython3",
   "version": "3.6.8"
  }
 },
 "nbformat": 4,
 "nbformat_minor": 2
}
