{
 "cells": [
  {
   "cell_type": "code",
   "execution_count": 1,
   "metadata": {},
   "outputs": [],
   "source": [
    "import matplotlib.pyplot as plt\n",
    "import numpy as np\n",
    "import tensorflow as tf"
   ]
  },
  {
   "cell_type": "code",
   "execution_count": 2,
   "metadata": {},
   "outputs": [],
   "source": [
    "n_samples = 500\n",
    "x_data = np.random.randn(n_samples, 1).flatten()\n",
    "eps = np.random.normal(0.0, 0.1)\n",
    "y_data = 2*x_data**3 - 3.*x_data**2 + 6.*x_data + 8.0 + eps"
   ]
  },
  {
   "cell_type": "code",
   "execution_count": 3,
   "metadata": {},
   "outputs": [
    {
     "data": {
      "text/plain": [
       "<matplotlib.collections.PathCollection at 0xb3c325940>"
      ]
     },
     "execution_count": 3,
     "metadata": {},
     "output_type": "execute_result"
    },
    {
     "data": {
      "image/png": "[encoded data removed]",
      "text/plain": [
       "<Figure size 432x288 with 1 Axes>"
      ]
     },
     "metadata": {
      "needs_background": "light"
     },
     "output_type": "display_data"
    }
   ],
   "source": [
    "plt.scatter(x_data, y_data)"
   ]
  },
  {
   "cell_type": "code",
   "execution_count": 4,
   "metadata": {},
   "outputs": [],
   "source": [
    "x = tf.placeholder(tf.float64, [None,])\n",
    "y = tf.placeholder(tf.float64, [None,])"
   ]
  },
  {
   "cell_type": "code",
   "execution_count": 5,
   "metadata": {},
   "outputs": [
    {
     "name": "stdout",
     "output_type": "stream",
     "text": [
      "WARNING:tensorflow:From /Users/seongokryu/anaconda3/envs/python_tf/lib/python3.6/site-packages/tensorflow/python/ops/resource_variable_ops.py:435: colocate_with (from tensorflow.python.framework.ops) is deprecated and will be removed in a future version.\n",
      "Instructions for updating:\n",
      "Colocations handled automatically by placer.\n"
     ]
    }
   ],
   "source": [
    "hidden_dim = 16\n",
    "x_ = tf.expand_dims(x, axis=-1)\n",
    "y_pred = tf.keras.layers.Dense(units=hidden_dim, use_bias=True, activation=tf.nn.sigmoid)(x_)\n",
    "y_pred = tf.keras.layers.Dense(units=1, use_bias=True, activation=None)(y_pred)\n",
    "y_pred = tf.reshape(y_pred, [-1])"
   ]
  },
  {
   "cell_type": "code",
   "execution_count": 6,
   "metadata": {},
   "outputs": [],
   "source": [
    "loss = tf.reduce_mean((y-y_pred)**2)"
   ]
  },
  {
   "cell_type": "code",
   "execution_count": 7,
   "metadata": {},
   "outputs": [],
   "source": [
    "sess = tf.Session()\n",
    "opt = tf.train.GradientDescentOptimizer(learning_rate=0.01).minimize(loss)\n",
    "init = tf.global_variables_initializer()\n",
    "sess.run(init)"
   ]
  },
  {
   "cell_type": "code",
   "execution_count": null,
   "metadata": {},
   "outputs": [],
   "source": [
    "batch_size = 10\n",
    "num_epoches = 10\n",
    "num_train = 400\n",
    "x_train = x_data[:num_train]\n",
    "x_validation = x_data[num_train:]\n",
    "y_train = y_data[:num_train]\n",
    "y_validation = y_data[num_train:]\n",
    "num_train_batches = x_train.shape[0] // batch_size\n",
    "num_validation_batches = x_validation.shape[0] // batch_size\n",
    "\n",
    "train_loss_list = []\n",
    "validation_loss_list = []\n",
    "for epoch in range(num_epoches):\n",
    "    # Train\n",
    "    train_loss = 0.0\n",
    "    for i in range(num_train_batches):\n",
    "        x_batch = x_train[i*batch_size:(i+1)*batch_size]\n",
    "        y_batch = y_train[i*batch_size:(i+1)*batch_size]\n",
    "        _, train_loss_batch = sess.run([opt, loss], feed_dict={x:x_batch, y:y_batch})\n",
    "        train_loss += train_loss_batch\n",
    "    train_loss /= num_train_batches\n",
    "    train_loss_list.append(train_loss)\n",
    "    \n",
    "    # Validation\n",
    "    validation_loss = 0.0\n",
    "    for i in range(num_validation_batches):\n",
    "        x_batch = x_validation[i*batch_size:(i+1)*batch_size]\n",
    "        y_batch = y_validation[i*batch_size:(i+1)*batch_size]\n",
    "        validation_loss_batch = sess.run(loss, feed_dict={x:x_batch, y:y_batch})\n",
    "        validation_loss += validation_loss_batch\n",
    "    validation_loss /= num_validation_batches\n",
    "    validation_loss_list.append(validation_loss)\n",
    "\n",
    "# Plot train and validation losses w.r.t training epoches\n",
    "x__ = np.arange(0,num_epoches)\n",
    "plt.plot(x__, train_loss_list, '*-', label='Train loss')\n",
    "plt.plot(x__, validation_loss_list, 'o-', label='Validation_loss')\n",
    "plt.legend()"
   ]
  },
  {
   "cell_type": "code",
   "execution_count": null,
   "metadata": {},
   "outputs": [],
   "source": []
  }
 ],
 "metadata": {
  "kernelspec": {
   "display_name": "Python 3",
   "language": "python",
   "name": "python3"
  },
  "language_info": {
   "codemirror_mode": {
    "name": "ipython",
    "version": 3
   },
   "file_extension": ".py",
   "mimetype": "text/x-python",
   "name": "python",
   "nbconvert_exporter": "python",
   "pygments_lexer": "ipython3",
   "version": "3.6.8"
  }
 },
 "nbformat": 4,
 "nbformat_minor": 2
}
