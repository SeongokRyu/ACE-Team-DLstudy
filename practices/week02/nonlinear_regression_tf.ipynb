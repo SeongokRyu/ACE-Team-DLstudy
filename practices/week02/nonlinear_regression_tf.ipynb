{
 "cells": [
  {
   "cell_type": "markdown",
   "metadata": {},
   "source": [
    "In this practice, we will approximate some non-linear function with two-layer perceptrons.  \n",
    "\n",
    "In the previous lecture, we learned that multi-layer perceptrons can approximate any non-linear function according to the universal approximation theorem. Thus, we will investigate this lesson. \n",
    "\n",
    "Firstly, let's import necessary python packages: numpy, tensorflow and matplotlib."
   ]
  },
  {
   "cell_type": "code",
   "execution_count": 1,
   "metadata": {},
   "outputs": [],
   "source": [
    "import matplotlib.pyplot as plt\n",
    "import numpy as np\n",
    "import tensorflow as tf"
   ]
  },
  {
   "cell_type": "markdown",
   "metadata": {},
   "source": [
    "Then, generate samples from a non-linear function: In this pratcie, we choose a function \\\\(f(x) = 2x^2 + \\epsilon \\\\) for an example."
   ]
  },
  {
   "cell_type": "code",
   "execution_count": 2,
   "metadata": {},
   "outputs": [],
   "source": [
    "n_samples = 500\n",
    "x_data = np.random.randn(n_samples, 1).flatten()\n",
    "#x_data = np.arange(-3., 3., 0.02).flatten()\n",
    "#n_samples = x_data.shape[0]\n",
    "eps = np.random.normal(0.0, 1.0, n_samples)\n",
    "y_data = 2.*x_data**2 + eps\n",
    "#y_data = x_data**3 - x_data**2 - x_data + 3.0 + eps\n",
    "#y_data = 3.*np.sin(2.*x_data) + eps"
   ]
  },
  {
   "cell_type": "code",
   "execution_count": 3,
   "metadata": {},
   "outputs": [
    {
     "data": {
      "text/plain": [
       "<matplotlib.collections.PathCollection at 0xb36e5a8d0>"
      ]
     },
     "execution_count": 3,
     "metadata": {},
     "output_type": "execute_result"
    },
    {
     "data": {
      "image/png": "[encoded data removed]",
      "text/plain": [
       "<Figure size 432x288 with 1 Axes>"
      ]
     },
     "metadata": {
      "needs_background": "light"
     },
     "output_type": "display_data"
    }
   ],
   "source": [
    "plt.scatter(x_data, y_data)"
   ]
  },
  {
   "cell_type": "markdown",
   "metadata": {},
   "source": [
    "The remaining procedure is same as the previous practice. \n",
    "\n",
    "However, we construct our hypothesis with a non-linear function: multi-layer percetpron whose hidden layer is activated with a sigmoid function, in contrast to the previous hypothesis was a linear-function."
   ]
  },
  {
   "cell_type": "code",
   "execution_count": 4,
   "metadata": {},
   "outputs": [],
   "source": [
    "x = tf.placeholder(tf.float64, [None,])\n",
    "y = tf.placeholder(tf.float64, [None,])"
   ]
  },
  {
   "cell_type": "code",
   "execution_count": 5,
   "metadata": {},
   "outputs": [
    {
     "name": "stdout",
     "output_type": "stream",
     "text": [
      "WARNING:tensorflow:From /Users/seongokryu/anaconda3/envs/python_tf/lib/python3.6/site-packages/tensorflow/python/ops/resource_variable_ops.py:435: colocate_with (from tensorflow.python.framework.ops) is deprecated and will be removed in a future version.\n",
      "Instructions for updating:\n",
      "Colocations handled automatically by placer.\n"
     ]
    }
   ],
   "source": [
    "hidden_dim = 16\n",
    "x_ = tf.expand_dims(x, axis=-1)\n",
    "# must include non-linear activation\n",
    "y_pred = tf.keras.layers.Dense(units=hidden_dim, use_bias=True, activation=tf.nn.sigmoid)(x_) \n",
    "y_pred = tf.keras.layers.Dense(units=1, use_bias=True, activation=None)(y_pred)\n",
    "y_pred = tf.reshape(y_pred, [-1])"
   ]
  },
  {
   "cell_type": "code",
   "execution_count": 6,
   "metadata": {},
   "outputs": [],
   "source": [
    "loss = tf.reduce_mean((y-y_pred)**2)"
   ]
  },
  {
   "cell_type": "code",
   "execution_count": 7,
   "metadata": {},
   "outputs": [],
   "source": [
    "sess = tf.Session()\n",
    "opt = tf.train.GradientDescentOptimizer(learning_rate=1e-2).minimize(loss)\n",
    "init = tf.global_variables_initializer()\n",
    "sess.run(init)"
   ]
  },
  {
   "cell_type": "code",
   "execution_count": 8,
   "metadata": {},
   "outputs": [
    {
     "data": {
      "text/plain": [
       "<matplotlib.legend.Legend at 0xb36ede6a0>"
      ]
     },
     "execution_count": 8,
     "metadata": {},
     "output_type": "execute_result"
    },
    {
     "data": {
      "image/png": "[encoded data removed]",
      "text/plain": [
       "<Figure size 432x288 with 1 Axes>"
      ]
     },
     "metadata": {
      "needs_background": "light"
     },
     "output_type": "display_data"
    }
   ],
   "source": [
    "batch_size = 10\n",
    "num_epoches = 100\n",
    "num_train = int(n_samples*0.8)\n",
    "x_train = x_data[:num_train]\n",
    "x_validation = x_data[num_train:]\n",
    "y_train = y_data[:num_train]\n",
    "y_validation = y_data[num_train:]\n",
    "num_train_batches = x_train.shape[0] // batch_size\n",
    "num_validation_batches = x_validation.shape[0] // batch_size\n",
    "\n",
    "train_loss_list = []\n",
    "validation_loss_list = []\n",
    "for epoch in range(num_epoches):\n",
    "    # Train\n",
    "    train_loss = 0.0\n",
    "    for i in range(num_train_batches):\n",
    "        x_batch = x_train[i*batch_size:(i+1)*batch_size]\n",
    "        y_batch = y_train[i*batch_size:(i+1)*batch_size]\n",
    "        _, train_loss_batch = sess.run([opt, loss], feed_dict={x:x_batch, y:y_batch})\n",
    "        train_loss += train_loss_batch\n",
    "    train_loss /= num_train_batches\n",
    "    train_loss_list.append(train_loss)\n",
    "    \n",
    "    # Validation\n",
    "    validation_loss = 0.0\n",
    "    for i in range(num_validation_batches):\n",
    "        x_batch = x_validation[i*batch_size:(i+1)*batch_size]\n",
    "        y_batch = y_validation[i*batch_size:(i+1)*batch_size]\n",
    "        validation_loss_batch = sess.run(loss, feed_dict={x:x_batch, y:y_batch})\n",
    "        validation_loss += validation_loss_batch\n",
    "    validation_loss /= num_validation_batches\n",
    "    validation_loss_list.append(validation_loss)\n",
    "\n",
    "# Plot train and validation losses w.r.t training epoches\n",
    "x__ = np.arange(0,num_epoches)\n",
    "plt.plot(x__, train_loss_list, '*-', label='Train loss')\n",
    "plt.plot(x__, validation_loss_list, 'o-', label='Validation_loss')\n",
    "plt.legend()"
   ]
  },
  {
   "cell_type": "code",
   "execution_count": 9,
   "metadata": {},
   "outputs": [
    {
     "name": "stdout",
     "output_type": "stream",
     "text": [
      "(50,)\n",
      "(50,)\n",
      "(50,)\n"
     ]
    },
    {
     "data": {
      "text/plain": [
       "<matplotlib.legend.Legend at 0xb3714fda0>"
      ]
     },
     "execution_count": 9,
     "metadata": {},
     "output_type": "execute_result"
    },
    {
     "data": {
      "image/png": "[encoded data removed]",
      "text/plain": [
       "<Figure size 432x288 with 1 Axes>"
      ]
     },
     "metadata": {
      "needs_background": "light"
     },
     "output_type": "display_data"
    }
   ],
   "source": [
    "#x_test = np.random.randn(100, 1).flatten()\n",
    "x_test = np.arange(-5., 5., 0.2)\n",
    "y_true = 2.*x_test**2\n",
    "#y_true = x_test**3 - x_test**2 + x_test - 2.0\n",
    "#y_true = 3.*np.sin(2.*x_test)\n",
    "num_test_batches = x_test.shape[0] // batch_size\n",
    "y_test = []\n",
    "for i in range(num_test_batches):\n",
    "    x_batch = x_test[i*batch_size:(i+1)*batch_size]   \n",
    "    y_test_batch = sess.run(y_pred, feed_dict={x:x_batch})\n",
    "    y_test.append(y_test_batch)\n",
    "y_test = np.asarray(y_test).flatten()\n",
    "print (x_test.shape)\n",
    "print (y_test.shape)\n",
    "print (y_true.shape)\n",
    "# Plot\n",
    "plt.figure()\n",
    "plt.scatter(x_test, y_true, label='True')\n",
    "plt.scatter(x_test, y_test, label='Predicted')\n",
    "plt.legend()"
   ]
  },
  {
   "cell_type": "markdown",
   "metadata": {},
   "source": [
    "We can see \n",
    "- Our hypothesis with the MLP can fit training examples quite correctly for x values ranging from (-2, 2), where most training samples are located. \n",
    "- However, for outlier samples, our hypothesis is not able to infer correct values. \n",
    "- Thus, to utilize our hypothesis more robust and safely, it is necessary to detect incorrect predictions even though we don't have true labels for them, such as by estimating predictive uncertainty. We will investigate more details of Bayesian deep learning in future."
   ]
  },
  {
   "cell_type": "code",
   "execution_count": null,
   "metadata": {},
   "outputs": [],
   "source": []
  }
 ],
 "metadata": {
  "kernelspec": {
   "display_name": "Python 3",
   "language": "python",
   "name": "python3"
  },
  "language_info": {
   "codemirror_mode": {
    "name": "ipython",
    "version": 3
   },
   "file_extension": ".py",
   "mimetype": "text/x-python",
   "name": "python",
   "nbconvert_exporter": "python",
   "pygments_lexer": "ipython3",
   "version": "3.6.8"
  }
 },
 "nbformat": 4,
 "nbformat_minor": 2
}
