{
 "cells": [
  {
   "cell_type": "markdown",
   "metadata": {},
   "source": [
    "In this practice, we will perform a simple linear regression with tensorflow. \n",
    "First, let's import some python packages: numpy, tensorflow and matplotlib."
   ]
  },
  {
   "cell_type": "code",
   "execution_count": 1,
   "metadata": {},
   "outputs": [],
   "source": [
    "import matplotlib.pyplot as plt\n",
    "import numpy as np\n",
    "import tensorflow as tf"
   ]
  },
  {
   "cell_type": "markdown",
   "metadata": {},
   "source": [
    "Let us assume that our observation (x,y) has a form \\\\( y=2x+8+\\epsilon \\\\), where the noise term has a distribution \\\\( \\epsilon \\sim N(0,s^2) \\\\).\n",
    "\n",
    "Create total 10,000 samples which will be used for training and evaluation."
   ]
  },
  {
   "cell_type": "code",
   "execution_count": 2,
   "metadata": {},
   "outputs": [],
   "source": [
    "n_samples = 500\n",
    "x_data = np.random.randn(n_samples,1).flatten()\n",
    "eps = np.random.normal(0.0, 1.0, n_samples)\n",
    "y_data = 2*x_data + 8. + eps"
   ]
  },
  {
   "cell_type": "code",
   "execution_count": 3,
   "metadata": {},
   "outputs": [
    {
     "data": {
      "text/plain": [
       "<matplotlib.collections.PathCollection at 0xb36f999b0>"
      ]
     },
     "execution_count": 3,
     "metadata": {},
     "output_type": "execute_result"
    },
    {
     "data": {
      "image/png": "[encoded data removed]",
      "text/plain": [
       "<Figure size 432x288 with 1 Axes>"
      ]
     },
     "metadata": {
      "needs_background": "light"
     },
     "output_type": "display_data"
    }
   ],
   "source": [
    "plt.scatter(x_data, y_data)"
   ]
  },
  {
   "cell_type": "markdown",
   "metadata": {},
   "source": [
    "Then, we should define a computational graph of our hypothesis. \n",
    "\n",
    "The first step is to declare placeholders - tensor variables that will take data samples."
   ]
  },
  {
   "cell_type": "code",
   "execution_count": 4,
   "metadata": {},
   "outputs": [],
   "source": [
    "x = tf.placeholder(tf.float64, shape=[None,])\n",
    "y = tf.placeholder(tf.float64, shape=[None,])"
   ]
  },
  {
   "cell_type": "markdown",
   "metadata": {},
   "source": [
    "We assume that our hypothesis is one-dimensioanl linear model, \\\\(y = ax+b\\\\)."
   ]
  },
  {
   "cell_type": "code",
   "execution_count": 5,
   "metadata": {},
   "outputs": [
    {
     "name": "stdout",
     "output_type": "stream",
     "text": [
      "Tensor(\"ExpandDims:0\", shape=(?, 1), dtype=float64)\n",
      "WARNING:tensorflow:From /Users/seongokryu/anaconda3/envs/python_tf/lib/python3.6/site-packages/tensorflow/python/ops/resource_variable_ops.py:435: colocate_with (from tensorflow.python.framework.ops) is deprecated and will be removed in a future version.\n",
      "Instructions for updating:\n",
      "Colocations handled automatically by placer.\n",
      "Tensor(\"Reshape:0\", shape=(?,), dtype=float64)\n"
     ]
    }
   ],
   "source": [
    "x_ = tf.expand_dims(x, axis=-1)\n",
    "print (x_)\n",
    "y_pred = tf.keras.layers.Dense(units=1, use_bias=True, activation=None)(x_)\n",
    "y_pred = tf.reshape(y_pred, [-1])\n",
    "print (y_pred)"
   ]
  },
  {
   "cell_type": "markdown",
   "metadata": {},
   "source": [
    "The operation 'tf.keras.layers.dense' performs a matrix multiplication \\\\( Y = X*weight + bias \\\\).\n",
    "See examples and arguments for this operation at https://www.tensorflow.org/api_docs/python/tf/keras/layers/Dense. \n",
    "\n",
    "We should minimize the risk of our hypothesis represented by L2-norm, \\\\( \\frac{1}{n} \\sum_{i=1}^{n}|y_i-y_{pred,i} |^2\\\\), where $i$ is the index of training examples."
   ]
  },
  {
   "cell_type": "code",
   "execution_count": 6,
   "metadata": {},
   "outputs": [
    {
     "name": "stdout",
     "output_type": "stream",
     "text": [
      "Tensor(\"Mean:0\", shape=(), dtype=float64)\n"
     ]
    }
   ],
   "source": [
    "loss = tf.reduce_mean((y-y_pred)**2)\n",
    "print (loss)"
   ]
  },
  {
   "cell_type": "markdown",
   "metadata": {},
   "source": [
    "Declare a new session and an optimer to be used for a gradient descent minimization. "
   ]
  },
  {
   "cell_type": "code",
   "execution_count": 7,
   "metadata": {},
   "outputs": [],
   "source": [
    "sess = tf.Session()\n",
    "opt = tf.train.GradientDescentOptimizer(learning_rate=0.01).minimize(loss)\n",
    "init = tf.global_variables_initializer()\n",
    "sess.run(init)"
   ]
  },
  {
   "cell_type": "markdown",
   "metadata": {},
   "source": [
    "OK, we ready to train our hypothesis. \n",
    "\n",
    "In the training and validation phases, we can train our model by feeding examples to the computational graph. "
   ]
  },
  {
   "cell_type": "code",
   "execution_count": 8,
   "metadata": {},
   "outputs": [
    {
     "name": "stdout",
     "output_type": "stream",
     "text": [
      "[34.18902799659905, 7.43669992227283, 2.185174712554022, 1.1596562087534337, 0.9619471371804684, 0.9250072404117397, 0.9186458018483732, 0.9178049216320296, 0.9178236536657609, 0.9179094999779135]\n",
      "[11.688806570029767, 2.761284879201656, 1.2237809355436655, 1.022937429556944, 1.029545201429165, 1.051556083917972, 1.0651425117496047, 1.0719432575807413, 1.0751202921027276, 1.0765643971496548]\n"
     ]
    },
    {
     "data": {
      "text/plain": [
       "<matplotlib.legend.Legend at 0xb371de9e8>"
      ]
     },
     "execution_count": 8,
     "metadata": {},
     "output_type": "execute_result"
    },
    {
     "data": {
      "image/png": "[encoded data removed]",
      "text/plain": [
       "<Figure size 432x288 with 1 Axes>"
      ]
     },
     "metadata": {
      "needs_background": "light"
     },
     "output_type": "display_data"
    }
   ],
   "source": [
    "batch_size = 10\n",
    "num_epoches = 10\n",
    "num_train = 400\n",
    "x_train = x_data[:num_train]\n",
    "x_validation = x_data[num_train:]\n",
    "y_train = y_data[:num_train]\n",
    "y_validation = y_data[num_train:]\n",
    "num_train_batches = x_train.shape[0] // batch_size\n",
    "num_validation_batches = x_validation.shape[0] // batch_size\n",
    "\n",
    "train_loss_list = []\n",
    "validation_loss_list = []\n",
    "for epoch in range(num_epoches):\n",
    "    # Train\n",
    "    train_loss = 0.0\n",
    "    for i in range(num_train_batches):\n",
    "        x_batch = x_train[i*batch_size:(i+1)*batch_size]\n",
    "        y_batch = y_train[i*batch_size:(i+1)*batch_size]\n",
    "        _, train_loss_batch = sess.run([opt, loss], feed_dict={x:x_batch, y:y_batch})\n",
    "        train_loss += train_loss_batch\n",
    "    train_loss /= num_train_batches\n",
    "    train_loss_list.append(train_loss)\n",
    "    \n",
    "    # Validation\n",
    "    validation_loss = 0.0\n",
    "    for i in range(num_validation_batches):\n",
    "        x_batch = x_validation[i*batch_size:(i+1)*batch_size]\n",
    "        y_batch = y_validation[i*batch_size:(i+1)*batch_size]\n",
    "        validation_loss_batch = sess.run(loss, feed_dict={x:x_batch, y:y_batch})\n",
    "        validation_loss += validation_loss_batch\n",
    "    validation_loss /= num_validation_batches\n",
    "    validation_loss_list.append(validation_loss)\n",
    "\n",
    "print (train_loss_list)\n",
    "print (validation_loss_list)\n",
    "# Plot train and validation losses w.r.t training epoches\n",
    "x__ = np.arange(0,num_epoches)\n",
    "plt.plot(x__, train_loss_list, '*-', label='Train loss')\n",
    "plt.plot(x__, validation_loss_list, 'o-', label='Validation_loss')\n",
    "plt.legend()"
   ]
  },
  {
   "cell_type": "markdown",
   "metadata": {},
   "source": [
    "Let's check predictions made by our hypothesis. \n",
    "\n",
    "The command 'tf.trainable_variables' show the weight and bias variables of our hypothesis"
   ]
  },
  {
   "cell_type": "code",
   "execution_count": 9,
   "metadata": {},
   "outputs": [
    {
     "data": {
      "text/plain": [
       "[<tf.Variable 'dense/kernel:0' shape=(1, 1) dtype=float64>,\n",
       " <tf.Variable 'dense/bias:0' shape=(1,) dtype=float64>]"
      ]
     },
     "execution_count": 9,
     "metadata": {},
     "output_type": "execute_result"
    }
   ],
   "source": [
    "tf.trainable_variables()"
   ]
  },
  {
   "cell_type": "markdown",
   "metadata": {},
   "source": [
    "We can check their values by executing the 'sess.run' command."
   ]
  },
  {
   "cell_type": "code",
   "execution_count": 10,
   "metadata": {},
   "outputs": [
    {
     "data": {
      "text/plain": [
       "[array([[2.0355584]]), array([8.0527493])]"
      ]
     },
     "execution_count": 10,
     "metadata": {},
     "output_type": "execute_result"
    }
   ],
   "source": [
    "sess.run(tf.trainable_variables())"
   ]
  },
  {
   "cell_type": "markdown",
   "metadata": {},
   "source": [
    "We got our hypothesis having a form \\\\( y=2.0355584*x + 8,0527493 \\\\)."
   ]
  },
  {
   "cell_type": "code",
   "execution_count": 12,
   "metadata": {},
   "outputs": [
    {
     "data": {
      "text/plain": [
       "<matplotlib.collections.PathCollection at 0xb3735a588>"
      ]
     },
     "execution_count": 12,
     "metadata": {},
     "output_type": "execute_result"
    },
    {
     "data": {
      "image/png": "[encoded data removed]",
      "text/plain": [
       "<Figure size 432x288 with 1 Axes>"
      ]
     },
     "metadata": {
      "needs_background": "light"
     },
     "output_type": "display_data"
    }
   ],
   "source": [
    "x_test = np.random.randn(100, 1).flatten()\n",
    "num_test_batches = x_test.shape[0] // batch_size\n",
    "y_test = []\n",
    "for i in range(num_test_batches):\n",
    "    x_batch = x_test[i*batch_size:(i+1)*batch_size]   \n",
    "    y_test_batch = sess.run(y_pred, feed_dict={x:x_batch})\n",
    "    y_test.append(y_test_batch)\n",
    "y_test = np.asarray(y_test).flatten()\n",
    "# Plot\n",
    "plt.figure()\n",
    "plt.scatter(x_test, y_test)"
   ]
  },
  {
   "cell_type": "code",
   "execution_count": null,
   "metadata": {},
   "outputs": [],
   "source": []
  }
 ],
 "metadata": {
  "kernelspec": {
   "display_name": "Python 3",
   "language": "python",
   "name": "python3"
  },
  "language_info": {
   "codemirror_mode": {
    "name": "ipython",
    "version": 3
   },
   "file_extension": ".py",
   "mimetype": "text/x-python",
   "name": "python",
   "nbconvert_exporter": "python",
   "pygments_lexer": "ipython3",
   "version": "3.6.8"
  }
 },
 "nbformat": 4,
 "nbformat_minor": 2
}
