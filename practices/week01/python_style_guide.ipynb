{
 "cells": [
  {
   "cell_type": "markdown",
   "metadata": {},
   "source": [
    "In this practice, we will briefly investigate 'style guide for python code'.\n",
    "\n",
    "Why should we study and follow this guide? \n",
    "That is because, not only editor but also other people read and edit codes. \n",
    "Therefore, poorly written codes are hard to be maintained. \n",
    "\n",
    "We can summarie the most important lesson as 'consistency'.\n",
    "To preserve the readability of codes in a sampe project, one should consistently write codes with same style. \n",
    "Each project team has own style conventiton. \n",
    "However, most project teams usually have shared style guides such as 'python enhance proposal (PEP)'.\n",
    "We recommend readers to see style guides proposed in below links. \n",
    "\n",
    "- PEP8 style guide: https://www.python.org/dev/peps/pep-0008/\n",
    "- PEP8 style guide in Korean: https://spoqa.github.io/2012/08/03/about-python-coding-convention.html\n",
    "- Google style guide: https://github.com/google/styleguide/blob/gh-pages/pyguide.md\n",
    "- Google style guide in Korean: http://blog.naver.com/PostView.nhn?blogId=sung487&logNo=10152176024"
   ]
  },
  {
   "cell_type": "markdown",
   "metadata": {},
   "source": [
    "## Naming convention\n",
    "summary: module_name, package_name, method_name, ClassName, ExceptionName, GLOBAL_CONSTANT_NAME, instance_paramter_name, global_var_name, local_var_name, function_parameter_name\n",
    "\n",
    "Avoid\n",
    "- using a single character, exception: using in iteration loops, e.g. for i in range(0,num_iteration):\n",
    "- using '-'\n",
    "- using '__' around the function name, it is the predefined keywords in Python. "
   ]
  },
  {
   "cell_type": "raw",
   "metadata": {},
   "source": [
    "def my_function_name(var_one, var_two):"
   ]
  },
  {
   "cell_type": "raw",
   "metadata": {},
   "source": [
    "def MyClassName(*args):"
   ]
  },
  {
   "cell_type": "raw",
   "metadata": {},
   "source": [
    "PI = 3.141592\n",
    "PLANCK_CONSTANT = 6.626*1e-34"
   ]
  },
  {
   "cell_type": "markdown",
   "metadata": {},
   "source": [
    "## Indentation\n",
    "Use 4 spaces per indentation level. Spaces are the preferred indentation method. Tabs should solely to remain consistent with code that is already indented with tabs. Python3 disallows mixing the use of tabs and spaces for indentation. "
   ]
  },
  {
   "cell_type": "raw",
   "metadata": {},
   "source": [
    "for i in range(0,3):\n",
    "    print (i)"
   ]
  },
  {
   "cell_type": "markdown",
   "metadata": {},
   "source": [
    "## Maximum Line Length \n",
    "Limit all lines to a maximum of 79 characters in PEP8 style. \n",
    "\n",
    "If a code line is too long, split the line with hanging indent. When using a hanging indent, the following should be considered: there should be no arguments on the first line and further indendation should be used to clearly distinguish itself as a continuation line."
   ]
  },
  {
   "cell_type": "raw",
   "metadata": {},
   "source": [
    "# Add 4 spaces to distinguish arguments from the rest.\n",
    "def long_function_name(\n",
    "    var_one, var_two, var_three,\n",
    "    var_four):\n",
    "    del var_two, var_three, val_four\n",
    "    print (var_one)"
   ]
  },
  {
   "cell_type": "markdown",
   "metadata": {},
   "source": [
    "Note that Google style guide recommends to delete unused variables: var_two, var_three, var_four in the above case."
   ]
  },
  {
   "cell_type": "raw",
   "metadata": {},
   "source": [
    "# Alinged with opening delimeter.\n",
    "foo = long_funtion_name(var_one, var_two, \n",
    "                        var_three, var_four)"
   ]
  },
  {
   "cell_type": "markdown",
   "metadata": {},
   "source": [
    "or"
   ]
  },
  {
   "cell_type": "raw",
   "metadata": {},
   "source": [
    "# Hanging indents should add a level.\n",
    "foo = long_function_name(\n",
    "    var_one, var_two,\n",
    "    var_three, var_four)"
   ]
  },
  {
   "cell_type": "raw",
   "metadata": {},
   "source": [
    "In tensorflow, we frequently encouter a declaration of function with a long name taking multiple number of aguments. For example,"
   ]
  },
  {
   "cell_type": "raw",
   "metadata": {},
   "source": [
    "output = tf.keras.layers.Dense(\n",
    "    units=hidden_dim,\n",
    "    use_bias=True,\n",
    "    activation=tf.nn.relu,\n",
    "    kernel_initializer=tf.contrib.layers.xavier_initializer(),\n",
    "    bias_initializer=tf.zeros_initializer(),\n",
    "    kernel_regularizer=tf.contrib.layers.l2_regularizer(),\n",
    "    bias_regularizer=tf.contrib.layers.l2_regularizer()\n",
    "    )(x)"
   ]
  },
  {
   "cell_type": "raw",
   "metadata": {},
   "source": [
    "In such cases, check and follow style guides such as PEP8 or Google style guide."
   ]
  },
  {
   "cell_type": "markdown",
   "metadata": {},
   "source": [
    "## Import\n",
    "Separately import packages, for example:"
   ]
  },
  {
   "cell_type": "code",
   "execution_count": 1,
   "metadata": {},
   "outputs": [],
   "source": [
    "import os\n",
    "import sys"
   ]
  },
  {
   "cell_type": "markdown",
   "metadata": {},
   "source": [
    "not"
   ]
  },
  {
   "cell_type": "code",
   "execution_count": 2,
   "metadata": {},
   "outputs": [],
   "source": [
    "import os, sys"
   ]
  },
  {
   "cell_type": "markdown",
   "metadata": {},
   "source": [
    "## Docstring\n",
    "Google style guide strongly suggest to use 'docstring' in the beginniong of functions and classes.\n",
    "Classes must contain docstring at the below of its declaration."
   ]
  },
  {
   "cell_type": "code",
   "execution_count": 3,
   "metadata": {},
   "outputs": [],
   "source": [
    "def SampleClass(args):\n",
    "    \"\"\" Summary of SampleClass\n",
    "    \n",
    "    Longer information\n",
    "    Longer information\n",
    "    \n",
    "    Attributes:\n",
    "        like_spams: A boolean indicating if we like spam or not\n",
    "        eggs: An integer count of the eggs we have laid. \n",
    "    \"\"\"\n",
    "    \n",
    "    def __init__(self, like_spam=False):\n",
    "        \"\"\"Inits SampleClass with blah...\"\"\"\n",
    "        self.like_spam = like_spam\n",
    "        self.eggs = 0\n",
    "        \n",
    "    def public_method(self):\n",
    "        \"\"\"Performs operation blah...\"\"\""
   ]
  },
  {
   "cell_type": "markdown",
   "metadata": {},
   "source": [
    "We do not fully investigate standard style guides in this notebook, but we recommend beginners to see.\n",
    "\n",
    "### May the style guide with you!"
   ]
  },
  {
   "cell_type": "code",
   "execution_count": null,
   "metadata": {},
   "outputs": [],
   "source": []
  }
 ],
 "metadata": {
  "kernelspec": {
   "display_name": "Python 3",
   "language": "python",
   "name": "python3"
  },
  "language_info": {
   "codemirror_mode": {
    "name": "ipython",
    "version": 3
   },
   "file_extension": ".py",
   "mimetype": "text/x-python",
   "name": "python",
   "nbconvert_exporter": "python",
   "pygments_lexer": "ipython3",
   "version": "3.6.8"
  }
 },
 "nbformat": 4,
 "nbformat_minor": 2
}
